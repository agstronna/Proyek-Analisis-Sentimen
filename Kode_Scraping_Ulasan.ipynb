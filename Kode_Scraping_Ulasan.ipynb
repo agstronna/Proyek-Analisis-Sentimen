{
  "cells": [
    {
      "cell_type": "markdown",
      "metadata": {
        "id": "6pmpH9obb0NE"
      },
      "source": [
        "# **Analisis Sentimen Ulasan ChatGPT**\n",
        "\n",
        "Selamat datang dalam proyek *Analisis Sentimen Ulasan ChatGPT*!  \n",
        "Di era digital yang berkembang pesat, ulasan pengguna memegang peranan penting dalam membentuk persepsi publik terhadap suatu produk atau layanan. Dalam proyek ini, kita akan mengeksplorasi dunia analisis sentimen untuk memahami bagaimana pengguna merasakan dan menyampaikan pendapat mereka mengenai penggunaan ChatGPT.\n",
        "\n",
        "Analisis sentimen merupakan salah satu cabang penting dalam pemrosesan bahasa alami (Natural Language Processing/NLP), yang memungkinkan kita secara otomatis mengidentifikasi apakah suatu ulasan bernada positif, negatif, atau netral. Dengan demikian, proyek ini dapat membantu kita memahami umpan balik pengguna dengan lebih baik dan mendukung pengambilan keputusan dalam pengembangan serta peningkatan aplikasi.\n",
        "\n",
        "Sepanjang proyek ini, kita akan mempelajari konsep-konsep utama dalam analisis sentimen, seperti pra-pemrosesan teks, ekstraksi fitur, serta penerapan model machine learning untuk memprediksi sentimen ulasan. Kita akan menggunakan bahasa pemrograman Python dan pustaka populer seperti NLTK, scikit-learn, dan TensorFlow.\n",
        "\n",
        "Proyek ini tidak hanya akan memberikan wawasan yang mendalam tentang analisis sentimen, tetapi juga memperkuat keterampilan Anda dalam pemrograman dan pemrosesan data.  \n",
        "Mari kita mulai petualangan ini dan ungkap sentimen di balik ulasan pengguna ChatGPT!"
      ]
    },
    {
      "cell_type": "markdown",
      "metadata": {
        "id": "jZSDSMyeAFr0"
      },
      "source": [
        "# **Import Library**"
      ]
    },
    {
      "cell_type": "code",
      "execution_count": 1,
      "metadata": {
        "colab": {
          "base_uri": "https://localhost:8080/"
        },
        "id": "pGFzMazlFcE6",
        "outputId": "01d578bf-43eb-4ed7-fc29-8c998e81d9ea"
      },
      "outputs": [
        {
          "output_type": "stream",
          "name": "stdout",
          "text": [
            "Collecting google-play-scraper\n",
            "  Downloading google_play_scraper-1.2.7-py3-none-any.whl.metadata (50 kB)\n",
            "\u001b[?25l     \u001b[90m━━━━━━━━━━━━━━━━━━━━━━━━━━━━━━━━━━━━━━━━\u001b[0m \u001b[32m0.0/50.2 kB\u001b[0m \u001b[31m?\u001b[0m eta \u001b[36m-:--:--\u001b[0m\r\u001b[2K     \u001b[90m━━━━━━━━━━━━━━━━━━━━━━━━━━━━━━━━━━━━━━━━\u001b[0m \u001b[32m50.2/50.2 kB\u001b[0m \u001b[31m3.3 MB/s\u001b[0m eta \u001b[36m0:00:00\u001b[0m\n",
            "\u001b[?25hDownloading google_play_scraper-1.2.7-py3-none-any.whl (28 kB)\n",
            "Installing collected packages: google-play-scraper\n",
            "Successfully installed google-play-scraper-1.2.7\n"
          ]
        }
      ],
      "source": [
        "!pip install google-play-scraper"
      ]
    },
    {
      "cell_type": "code",
      "execution_count": 3,
      "metadata": {
        "id": "GiYherKbOuQw"
      },
      "outputs": [],
      "source": [
        "# Mengimpor pustaka yang diperlukan untuk scraping ulasan dari Google Play Store\n",
        "from google_play_scraper import app, reviews, Sort, reviews_all # Mengimpor pustaka google_play_scraper untuk mengambil informasi aplikasi dan ulasan dari Google Play Store\n",
        "import pandas as pd  # Pustaka untuk mengelola data dalam format DataFrame"
      ]
    },
    {
      "cell_type": "markdown",
      "metadata": {
        "id": "FBMV4WK8cVA3"
      },
      "source": [
        "## Scraping Dataset\n",
        "\n",
        "Pada proyek ini, kita akan melakukan analisis sentimen terhadap ulasan dan pendapat pengguna aplikasi **Wattpad** di Google Play Store. Analisis sentimen ini bertujuan untuk memahami bagaimana pengguna merasakan dan mengungkapkan opini mereka terhadap aplikasi tersebut.\n",
        "\n",
        "Dengan memanfaatkan berbagai teknik pemrosesan teks dan algoritma machine learning, kita akan mengklasifikasikan ulasan pengguna ke dalam tiga kategori sentimen: **positif**, **negatif**, atau **netral**.\n",
        "\n",
        "Hasil dari analisis ini diharapkan dapat memberikan wawasan yang berharga bagi pengembang aplikasi dalam meningkatkan kualitas layanan dan pengalaman pengguna. Mari kita mulai mengeksplorasi ulasan pengguna dan menganalisis sentimen terhadap aplikasi **Wattpad** secara lebih mendalam.\n"
      ]
    },
    {
      "cell_type": "code",
      "execution_count": 4,
      "metadata": {
        "id": "GTy8liYBQD3p"
      },
      "outputs": [],
      "source": [
        "# Mengambil semua ulasan dari aplikasi Wattpad (ID: 'wp.wattpad') di Google Play Store\n",
        "# Proses scraping dapat memerlukan waktu tergantung pada jumlah ulasan yang tersedia\n",
        "scrapreview = reviews_all(\n",
        "    'com.openai.chatgpt',           # ID aplikasi Wattpad\n",
        "    lang='id',              # Bahasa ulasan: Indonesia\n",
        "    country='id',           # Negara asal pengguna: Indonesia\n",
        "    sort=Sort.MOST_RELEVANT,  # Urutan ulasan (default: Sort.MOST_RELEVANT)\n",
        "    count=15000             # Jumlah ulasan yang ingin diambil\n",
        ")\n",
        "\n",
        "# Mengonversi hasil scraping menjadi DataFrame untuk memudahkan analisis\n",
        "df = pd.DataFrame(scrapreview)"
      ]
    },
    {
      "cell_type": "code",
      "execution_count": 6,
      "metadata": {
        "id": "S4oRwFULn9b8",
        "colab": {
          "base_uri": "https://localhost:8080/"
        },
        "outputId": "dbd10f33-28a7-48b4-d59b-56af40789209"
      },
      "outputs": [
        {
          "output_type": "stream",
          "name": "stdout",
          "text": [
            "Jumlah ulasan yang diambil: 59142\n",
            "Data berhasil disimpan dalam 'ChatGPT_ulasan.csv'\n"
          ]
        }
      ],
      "source": [
        "# Menyimpan hasil ulasan ke dalam file CSV agar bisa diakses dan dianalisis lebih lanjut\n",
        "df.to_csv(\"ChatGPT_ulasan.csv\", index=False, encoding=\"utf-8\")\n",
        "\n",
        "# Menampilkan jumlah ulasan yang berhasil diambil\n",
        "print(f\"Jumlah ulasan yang diambil: {len(df)}\")\n",
        "print(\"Data berhasil disimpan dalam 'ChatGPT_ulasan.csv'\")"
      ]
    }
  ],
  "metadata": {
    "colab": {
      "provenance": []
    },
    "kernelspec": {
      "display_name": "Python 3",
      "name": "python3"
    },
    "language_info": {
      "name": "python"
    }
  },
  "nbformat": 4,
  "nbformat_minor": 0
}
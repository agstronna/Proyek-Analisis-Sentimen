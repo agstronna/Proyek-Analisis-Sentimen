{
  "cells": [
    {
      "cell_type": "markdown",
      "metadata": {
        "id": "6pmpH9obb0NE"
      },
      "source": [
        "# **Sentimen Analisis Review APK Play Store**\n",
        "\n",
        "Selamat datang dalam proyek Sentimen Analisi Review APK Play Store ini! Dalam era digital yang berkembang pesat ini, ulasan pengguna memiliki peran penting dalam membentuk persepsi terhadap aplikasi mobile. Dalam proyek ini, kita akan menjelajahi dunia analisis sentimen untuk memahami bagaimana orang merasakan dan mengungkapkan pendapat mereka tentang aplikasi di Google Play Store.\n",
        "\n",
        "Analisis sentimen adalah salah satu cabang penting dalam pemrosesan bahasa alami yang memungkinkan kita untuk secara otomatis mengidentifikasi apakah ulasan pengguna cenderung positif atau\n",
        "negatif. Dengan demikian, proyek ini akan membantu kita dalam memahami umpan balik pengguna dengan lebih baik, dan dapat digunakan untuk mengambil keputusan yang lebih baik dalam pengembangan dan perbaikan aplikasi.\n",
        "\n",
        "Dalam perjalanan ini, kita akan menggali konsep-konsep penting dalam analisis sentimen, seperti pengolahan teks, ekstraksi fitur, dan penggunaan model machine learning untuk memprediksi sentimen ulasan. Kami akan menggunakan bahasa pemrograman Python dan beberapa pustaka populer seperti NLTK, scikit-learn, dan TensorFlow.\n",
        "\n",
        "Tentunya, proyek ini akan memberi Anda wawasan yang berharga dalam analisis sentimen dan keterampilan pemrograman yang relevan. Mari kita mulai memahami bagaimana kita dapat mengungkap sentimen di balik ulasan pengguna di Play Store!\n"
      ]
    },
    {
      "cell_type": "markdown",
      "metadata": {
        "id": "jZSDSMyeAFr0"
      },
      "source": [
        "# **Import Library**"
      ]
    },
    {
      "cell_type": "code",
      "execution_count": 1,
      "metadata": {
        "colab": {
          "base_uri": "https://localhost:8080/"
        },
        "id": "pGFzMazlFcE6",
        "outputId": "36025e92-0f9f-4210-de28-e2653c4d6f6b"
      },
      "outputs": [
        {
          "output_type": "stream",
          "name": "stdout",
          "text": [
            "Collecting google-play-scraper\n",
            "  Downloading google_play_scraper-1.2.7-py3-none-any.whl.metadata (50 kB)\n",
            "\u001b[?25l     \u001b[90m━━━━━━━━━━━━━━━━━━━━━━━━━━━━━━━━━━━━━━━━\u001b[0m \u001b[32m0.0/50.2 kB\u001b[0m \u001b[31m?\u001b[0m eta \u001b[36m-:--:--\u001b[0m\r\u001b[2K     \u001b[90m━━━━━━━━━━━━━━━━━━━━━━━━━━━━━━━━━━━━━━━━\u001b[0m \u001b[32m50.2/50.2 kB\u001b[0m \u001b[31m1.8 MB/s\u001b[0m eta \u001b[36m0:00:00\u001b[0m\n",
            "\u001b[?25hDownloading google_play_scraper-1.2.7-py3-none-any.whl (28 kB)\n",
            "Installing collected packages: google-play-scraper\n",
            "Successfully installed google-play-scraper-1.2.7\n"
          ]
        }
      ],
      "source": [
        "!pip install google-play-scraper"
      ]
    },
    {
      "cell_type": "code",
      "execution_count": 2,
      "metadata": {
        "id": "GiYherKbOuQw"
      },
      "outputs": [],
      "source": [
        "# Mengimpor pustaka yang diperlukan untuk scraping ulasan dari Google Play Store\n",
        "from google_play_scraper import app, reviews, Sort, reviews_all # Mengimpor pustaka google_play_scraper untuk mengambil informasi aplikasi dan ulasan dari Google Play Store\n",
        "import pandas as pd  # Pustaka untuk mengelola data dalam format DataFrame"
      ]
    },
    {
      "cell_type": "markdown",
      "metadata": {
        "id": "FBMV4WK8cVA3"
      },
      "source": [
        "## Scraping Dataset\n",
        "\n",
        "Pada proyek ini, kita akan melakukan analisis sentimen terhadap ulasan dan pendapat pengguna aplikasi **Wattpad** di Google Play Store. Analisis sentimen ini bertujuan untuk memahami bagaimana pengguna merasakan dan mengungkapkan opini mereka terhadap aplikasi tersebut.\n",
        "\n",
        "Dengan memanfaatkan berbagai teknik pemrosesan teks dan algoritma machine learning, kita akan mengklasifikasikan ulasan pengguna ke dalam tiga kategori sentimen: **positif**, **negatif**, atau **netral**.\n",
        "\n",
        "Hasil dari analisis ini diharapkan dapat memberikan wawasan yang berharga bagi pengembang aplikasi dalam meningkatkan kualitas layanan dan pengalaman pengguna. Mari kita mulai mengeksplorasi ulasan pengguna dan menganalisis sentimen terhadap aplikasi **Wattpad** secara lebih mendalam.\n"
      ]
    },
    {
      "cell_type": "code",
      "execution_count": 3,
      "metadata": {
        "id": "GTy8liYBQD3p"
      },
      "outputs": [],
      "source": [
        "# Mengambil semua ulasan dari aplikasi Wattpad (ID: 'wp.wattpad') di Google Play Store\n",
        "# Proses scraping dapat memerlukan waktu tergantung pada jumlah ulasan yang tersedia\n",
        "scrapreview = reviews_all(\n",
        "    'wp.wattpad',           # ID aplikasi Wattpad\n",
        "    lang='id',              # Bahasa ulasan: Indonesia\n",
        "    country='id',           # Negara asal pengguna: Indonesia\n",
        "    sort=Sort.MOST_RELEVANT,  # Urutan ulasan (default: Sort.MOST_RELEVANT)\n",
        "    count=15000             # Jumlah ulasan yang ingin diambil\n",
        ")\n",
        "\n",
        "# Mengonversi hasil scraping menjadi DataFrame untuk memudahkan analisis\n",
        "df = pd.DataFrame(scrapreview)"
      ]
    },
    {
      "cell_type": "code",
      "execution_count": 4,
      "metadata": {
        "id": "S4oRwFULn9b8",
        "colab": {
          "base_uri": "https://localhost:8080/"
        },
        "outputId": "8f11748b-bccd-4ca9-feb8-260dfb45fe42"
      },
      "outputs": [
        {
          "output_type": "stream",
          "name": "stdout",
          "text": [
            "Jumlah ulasan yang diambil: 72000\n",
            "Data berhasil disimpan dalam 'ulasan_aplikasi.csv'\n"
          ]
        }
      ],
      "source": [
        "# Menyimpan hasil ulasan ke dalam file CSV agar bisa diakses dan dianalisis lebih lanjut\n",
        "df.to_csv(\"ulasan_aplikasi.csv\", index=False, encoding=\"utf-8\")\n",
        "\n",
        "# Menampilkan jumlah ulasan yang berhasil diambil\n",
        "print(f\"Jumlah ulasan yang diambil: {len(df)}\")\n",
        "print(\"Data berhasil disimpan dalam 'ulasan_aplikasi.csv'\")"
      ]
    }
  ],
  "metadata": {
    "colab": {
      "provenance": []
    },
    "kernelspec": {
      "display_name": "Python 3",
      "name": "python3"
    },
    "language_info": {
      "name": "python"
    }
  },
  "nbformat": 4,
  "nbformat_minor": 0
}